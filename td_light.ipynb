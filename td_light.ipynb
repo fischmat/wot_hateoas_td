{
 "cells": [
  {
   "cell_type": "code",
   "execution_count": 1,
   "metadata": {
    "collapsed": true
   },
   "outputs": [],
   "source": [
    "# Some preparation stuff:\n",
    "import sys                                                         \n",
    "sys.path.append('/home/fischmat/PycharmProjects/wot_hateoas_td/')\n",
    "from src.td import get_thing_description_from_url\n",
    "from src.semantics import TDInputBuilder"
   ]
  },
  {
   "cell_type": "code",
   "execution_count": 2,
   "metadata": {
    "collapsed": false
   },
   "outputs": [],
   "source": [
    "# Load the Thing Description from the NodeMCU\n",
    "light = get_thing_description_from_url(\"http://192.168.43.153:80/\")"
   ]
  },
  {
   "cell_type": "code",
   "execution_count": 3,
   "metadata": {
    "collapsed": false
   },
   "outputs": [
    {
     "name": "stdout",
     "output_type": "stream",
     "text": [
      "Action: 'Turn Strobe On' (@type: http://elite.polito.it/ontologies/dogont.owl#OnFlashingCommand)\n",
      "Action: 'Turn Strobe Off' (@type: http://elite.polito.it/ontologies/dogont.owl#OffFlashingCommand)\n",
      "Action: 'Red flashing alarm' (@type: http://www.semanticdesktop.org/ontologies/2007/04/02/ncal#Alarm)\n"
     ]
    }
   ],
   "source": [
    "# Note that the types are from a DIFFERENT VAOCABULARY:\n",
    "light.print_actions()"
   ]
  },
  {
   "cell_type": "code",
   "execution_count": 4,
   "metadata": {
    "collapsed": true
   },
   "outputs": [],
   "source": [
    "flash_action = light.get_action_by_types(['http://www.matthias-fisch.de/ontologies/wot#StartFlashingAction'])"
   ]
  },
  {
   "cell_type": "code",
   "execution_count": 5,
   "metadata": {
    "collapsed": true
   },
   "outputs": [],
   "source": [
    "# Define rules for the duration:\n",
    "ib = TDInputBuilder()\n",
    "ib.add_value_rule('http://www.matthias-fisch.de/ontologies/wot#Duration', 'http://dbpedia.org/resource/Second', 5)\n",
    "ib.add_value_rule('http://www.matthias-fisch.de/ontologies/wot#Duration', 'http://dbpedia.org/resource/Millisecond', 5000)"
   ]
  },
  {
   "cell_type": "code",
   "execution_count": 6,
   "metadata": {
    "collapsed": false
   },
   "outputs": [
    {
     "name": "stdout",
     "output_type": "stream",
     "text": [
      "5\n"
     ]
    }
   ],
   "source": [
    "params  = ib.build(flash_action)\n",
    "print(params)"
   ]
  },
  {
   "cell_type": "code",
   "execution_count": 7,
   "metadata": {
    "collapsed": false
   },
   "outputs": [],
   "source": [
    "flash_action.invoke(params)"
   ]
  },
  {
   "cell_type": "code",
   "execution_count": null,
   "metadata": {
    "collapsed": true
   },
   "outputs": [],
   "source": [
    ""
   ]
  }
 ],
 "metadata": {
  "kernelspec": {
   "display_name": "Python 3",
   "language": "python",
   "name": "python3"
  },
  "language_info": {
   "codemirror_mode": {
    "name": "ipython",
    "version": 3.0
   },
   "file_extension": ".py",
   "mimetype": "text/x-python",
   "name": "python",
   "nbconvert_exporter": "python",
   "pygments_lexer": "ipython3",
   "version": "3.5.2"
  }
 },
 "nbformat": 4,
 "nbformat_minor": 0
}